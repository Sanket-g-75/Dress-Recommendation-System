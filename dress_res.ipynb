{
 "cells": [
  {
   "attachments": {},
   "cell_type": "markdown",
   "metadata": {},
   "source": [
    "### Problem Statement : Increase the sales of the store using a Recommendation System \n",
    "#### Include Brand, Gender, Color and Description"
   ]
  },
  {
   "cell_type": "code",
   "execution_count": 49,
   "metadata": {},
   "outputs": [],
   "source": [
    "import warnings\n",
    "warnings.filterwarnings(\"ignore\")\n",
    "warnings.filterwarnings(\"default\")"
   ]
  },
  {
   "cell_type": "code",
   "execution_count": 1,
   "metadata": {},
   "outputs": [],
   "source": [
    "import pandas as pd\n",
    "import numpy as np\n",
    "import matplotlib.pyplot as plt\n",
    "from tqdm import tqdm"
   ]
  },
  {
   "cell_type": "code",
   "execution_count": 2,
   "metadata": {},
   "outputs": [],
   "source": [
    "from urllib.request import urlopen\n",
    "import requests\n",
    "from selenium import webdriver\n",
    "from bs4 import BeautifulSoup"
   ]
  },
  {
   "cell_type": "code",
   "execution_count": 3,
   "metadata": {},
   "outputs": [],
   "source": [
    "from nltk.stem import WordNetLemmatizer\n",
    "from nltk.corpus import stopwords"
   ]
  },
  {
   "cell_type": "code",
   "execution_count": 4,
   "metadata": {},
   "outputs": [],
   "source": [
    "data = pd.read_csv('Debenham_Womens_Department.csv')"
   ]
  },
  {
   "cell_type": "code",
   "execution_count": 5,
   "metadata": {},
   "outputs": [
    {
     "data": {
      "text/plain": [
       "'https://www.debenhams.com/product/adrianna-papell-structured-cape-sheath_p-bef52ba3-2863-4aca-93d1-203c2a85b854?colour=White'"
      ]
     },
     "execution_count": 5,
     "metadata": {},
     "output_type": "execute_result"
    }
   ],
   "source": [
    "data['PRODUCT_URL'][15]"
   ]
  },
  {
   "cell_type": "code",
   "execution_count": 6,
   "metadata": {},
   "outputs": [],
   "source": [
    "new_data = data.iloc[:3000,:]"
   ]
  },
  {
   "attachments": {},
   "cell_type": "markdown",
   "metadata": {},
   "source": [
    "### Web Scraping"
   ]
  },
  {
   "cell_type": "code",
   "execution_count": 6,
   "metadata": {},
   "outputs": [],
   "source": [
    "def scraper(url):\n",
    "    # Initialize Chrome webdriver with cookies disabled\n",
    "    options = webdriver.ChromeOptions()\n",
    "    options.add_argument('--disable-cookies')\n",
    "    driver = webdriver.Chrome(options=options)\n",
    "    \n",
    "    # Navigate to the desired page\n",
    "    driver.get(url)\n",
    "    \n",
    "    # Get the page source after cookies are disabled\n",
    "    page_source = driver.page_source\n",
    "    \n",
    "    # Create a BeautifulSoup object to parse the HTML\n",
    "    soup = BeautifulSoup(page_source, 'html.parser')\n",
    "    \n",
    "    # Close the webdriver\n",
    "    driver.quit()\n",
    "    \n",
    "    desc = soup.find('div',class_='html__HTML-sc-1fx37p7-0 dFHTit')\n",
    "    text = desc.text\n",
    "    return text"
   ]
  },
  {
   "cell_type": "code",
   "execution_count": 14,
   "metadata": {},
   "outputs": [],
   "source": [
    "descriptions = []"
   ]
  },
  {
   "cell_type": "code",
   "execution_count": 15,
   "metadata": {},
   "outputs": [
    {
     "name": "stderr",
     "output_type": "stream",
     "text": [
      "100%|██████████| 3000/3000 [15:55:38<00:00, 19.11s/it]  \n"
     ]
    }
   ],
   "source": [
    "for i in tqdm(range(len(new_data))):\n",
    "    try:\n",
    "        url = new_data['PRODUCT_URL'][i]\n",
    "        disc = scraper(url)\n",
    "        descriptions.append([i,disc])\n",
    "    except:\n",
    "        descriptions.append([i,'None'])"
   ]
  },
  {
   "cell_type": "code",
   "execution_count": 18,
   "metadata": {},
   "outputs": [],
   "source": [
    "pd.DataFrame(descriptions).to_csv('Descriptions.csv',index=False)"
   ]
  },
  {
   "cell_type": "code",
   "execution_count": 17,
   "metadata": {},
   "outputs": [],
   "source": [
    "column_names = ['Index','Description']"
   ]
  },
  {
   "cell_type": "code",
   "execution_count": 35,
   "metadata": {},
   "outputs": [],
   "source": [
    "scrap_data = pd.read_csv('Descriptions.csv',names=column_names)"
   ]
  },
  {
   "cell_type": "code",
   "execution_count": 36,
   "metadata": {},
   "outputs": [],
   "source": [
    "scrap_data.drop(scrap_data.index[0],inplace=True)"
   ]
  },
  {
   "cell_type": "code",
   "execution_count": 40,
   "metadata": {},
   "outputs": [],
   "source": [
    "scrap_data = scrap_data.set_index('Index')"
   ]
  },
  {
   "cell_type": "code",
   "execution_count": 41,
   "metadata": {},
   "outputs": [
    {
     "data": {
      "text/html": [
       "<div>\n",
       "<style scoped>\n",
       "    .dataframe tbody tr th:only-of-type {\n",
       "        vertical-align: middle;\n",
       "    }\n",
       "\n",
       "    .dataframe tbody tr th {\n",
       "        vertical-align: top;\n",
       "    }\n",
       "\n",
       "    .dataframe thead th {\n",
       "        text-align: right;\n",
       "    }\n",
       "</style>\n",
       "<table border=\"1\" class=\"dataframe\">\n",
       "  <thead>\n",
       "    <tr style=\"text-align: right;\">\n",
       "      <th></th>\n",
       "      <th>Description</th>\n",
       "    </tr>\n",
       "    <tr>\n",
       "      <th>Index</th>\n",
       "      <th></th>\n",
       "    </tr>\n",
       "  </thead>\n",
       "  <tbody>\n",
       "    <tr>\n",
       "      <th>0</th>\n",
       "      <td>In our daydreams, we see this piece on a sandy...</td>\n",
       "    </tr>\n",
       "    <tr>\n",
       "      <th>1</th>\n",
       "      <td>Feel the soft sea breeze when you wear this Ba...</td>\n",
       "    </tr>\n",
       "    <tr>\n",
       "      <th>2</th>\n",
       "      <td>Adorned with delicate paisley embroidery and t...</td>\n",
       "    </tr>\n",
       "    <tr>\n",
       "      <th>3</th>\n",
       "      <td>When you are looking for something classic wit...</td>\n",
       "    </tr>\n",
       "    <tr>\n",
       "      <th>4</th>\n",
       "      <td>Fierce and fabulous, this tuxedo-style dress i...</td>\n",
       "    </tr>\n",
       "    <tr>\n",
       "      <th>...</th>\n",
       "      <td>...</td>\n",
       "    </tr>\n",
       "    <tr>\n",
       "      <th>2995</th>\n",
       "      <td>You've got the plans, we've got the dresses. F...</td>\n",
       "    </tr>\n",
       "    <tr>\n",
       "      <th>2996</th>\n",
       "      <td>None</td>\n",
       "    </tr>\n",
       "    <tr>\n",
       "      <th>2997</th>\n",
       "      <td>You've got the plans, we've got the dresses. F...</td>\n",
       "    </tr>\n",
       "    <tr>\n",
       "      <th>2998</th>\n",
       "      <td>Petite Black Satin Puff Sleeve Button Midaxi D...</td>\n",
       "    </tr>\n",
       "    <tr>\n",
       "      <th>2999</th>\n",
       "      <td>You've got the plans, we've got the dresses. F...</td>\n",
       "    </tr>\n",
       "  </tbody>\n",
       "</table>\n",
       "<p>3000 rows × 1 columns</p>\n",
       "</div>"
      ],
      "text/plain": [
       "                                             Description\n",
       "Index                                                   \n",
       "0      In our daydreams, we see this piece on a sandy...\n",
       "1      Feel the soft sea breeze when you wear this Ba...\n",
       "2      Adorned with delicate paisley embroidery and t...\n",
       "3      When you are looking for something classic wit...\n",
       "4      Fierce and fabulous, this tuxedo-style dress i...\n",
       "...                                                  ...\n",
       "2995   You've got the plans, we've got the dresses. F...\n",
       "2996                                                None\n",
       "2997   You've got the plans, we've got the dresses. F...\n",
       "2998   Petite Black Satin Puff Sleeve Button Midaxi D...\n",
       "2999   You've got the plans, we've got the dresses. F...\n",
       "\n",
       "[3000 rows x 1 columns]"
      ]
     },
     "execution_count": 41,
     "metadata": {},
     "output_type": "execute_result"
    }
   ],
   "source": [
    "scrap_data"
   ]
  },
  {
   "attachments": {},
   "cell_type": "markdown",
   "metadata": {},
   "source": [
    "### Data Preprocessing"
   ]
  },
  {
   "cell_type": "code",
   "execution_count": 44,
   "metadata": {},
   "outputs": [],
   "source": [
    "prep_data = pd.concat([new_data,scrap_data],axis=1)"
   ]
  },
  {
   "cell_type": "code",
   "execution_count": 45,
   "metadata": {},
   "outputs": [
    {
     "data": {
      "text/html": [
       "<div>\n",
       "<style scoped>\n",
       "    .dataframe tbody tr th:only-of-type {\n",
       "        vertical-align: middle;\n",
       "    }\n",
       "\n",
       "    .dataframe tbody tr th {\n",
       "        vertical-align: top;\n",
       "    }\n",
       "\n",
       "    .dataframe thead th {\n",
       "        text-align: right;\n",
       "    }\n",
       "</style>\n",
       "<table border=\"1\" class=\"dataframe\">\n",
       "  <thead>\n",
       "    <tr style=\"text-align: right;\">\n",
       "      <th></th>\n",
       "      <th>BRAND</th>\n",
       "      <th>DEPARTMENT</th>\n",
       "      <th>CATEGORY</th>\n",
       "      <th>SUBCATEGORY</th>\n",
       "      <th>SUBSUBCATEGORY</th>\n",
       "      <th>GENDER</th>\n",
       "      <th>PRODUCT_NAME</th>\n",
       "      <th>PRODUCT_URL</th>\n",
       "      <th>SKU</th>\n",
       "      <th>PRICE_RETAIL</th>\n",
       "      <th>PRICE_CURRENT</th>\n",
       "      <th>DISCOUNT_GIVEN</th>\n",
       "      <th>SORT_BY</th>\n",
       "      <th>BEST_SELLER_CATEGORY_RATING</th>\n",
       "      <th>LISTING_URL</th>\n",
       "      <th>Colour</th>\n",
       "      <th>SKU_VARIANT</th>\n",
       "      <th>SCAN_DATE</th>\n",
       "      <th>TID</th>\n",
       "      <th>Description</th>\n",
       "    </tr>\n",
       "  </thead>\n",
       "  <tbody>\n",
       "    <tr>\n",
       "      <th>0</th>\n",
       "      <td>Accessorize</td>\n",
       "      <td>Womens</td>\n",
       "      <td>Clothing</td>\n",
       "      <td>Clothing</td>\n",
       "      <td>Dresses</td>\n",
       "      <td>Female</td>\n",
       "      <td>Long Sleeve Beach Shirt</td>\n",
       "      <td>https://www.debenhams.com/product/accessorize-...</td>\n",
       "      <td>P-44e9c93a-5a50-4860-babe-9b87477de72c</td>\n",
       "      <td>35.0</td>\n",
       "      <td>35.0</td>\n",
       "      <td>NaN</td>\n",
       "      <td>Best Sellers</td>\n",
       "      <td>1</td>\n",
       "      <td>https://www.debenhams.com/category/womens-dres...</td>\n",
       "      <td>Blue</td>\n",
       "      <td>M5045462665003</td>\n",
       "      <td>2022-11-06 11:18:30</td>\n",
       "      <td>5249214</td>\n",
       "      <td>In our daydreams, we see this piece on a sandy...</td>\n",
       "    </tr>\n",
       "    <tr>\n",
       "      <th>1</th>\n",
       "      <td>Accessorize</td>\n",
       "      <td>Womens</td>\n",
       "      <td>Clothing</td>\n",
       "      <td>Clothing</td>\n",
       "      <td>Dresses</td>\n",
       "      <td>Female</td>\n",
       "      <td>Schiffly Bardot Dress</td>\n",
       "      <td>https://www.debenhams.com/product/accessorize-...</td>\n",
       "      <td>P-ed1fd2df-a8e3-48ad-aebd-643d5a76d77a</td>\n",
       "      <td>35.0</td>\n",
       "      <td>35.0</td>\n",
       "      <td>NaN</td>\n",
       "      <td>Best Sellers</td>\n",
       "      <td>2</td>\n",
       "      <td>https://www.debenhams.com/category/womens-dres...</td>\n",
       "      <td>Black</td>\n",
       "      <td>M5045462799517</td>\n",
       "      <td>2022-11-06 11:18:30</td>\n",
       "      <td>5249215</td>\n",
       "      <td>Feel the soft sea breeze when you wear this Ba...</td>\n",
       "    </tr>\n",
       "    <tr>\n",
       "      <th>2</th>\n",
       "      <td>Accessorize</td>\n",
       "      <td>Womens</td>\n",
       "      <td>Clothing</td>\n",
       "      <td>Clothing</td>\n",
       "      <td>Dresses</td>\n",
       "      <td>Female</td>\n",
       "      <td>Embroidered Tassel Tie Dress</td>\n",
       "      <td>https://www.debenhams.com/product/accessorize-...</td>\n",
       "      <td>P-8806081e-efd7-4b50-86bf-dd6a8904bbb4</td>\n",
       "      <td>54.0</td>\n",
       "      <td>54.0</td>\n",
       "      <td>NaN</td>\n",
       "      <td>Best Sellers</td>\n",
       "      <td>3</td>\n",
       "      <td>https://www.debenhams.com/category/womens-dres...</td>\n",
       "      <td>Blue</td>\n",
       "      <td>M5045462874139</td>\n",
       "      <td>2022-11-06 11:18:30</td>\n",
       "      <td>5249216</td>\n",
       "      <td>Adorned with delicate paisley embroidery and t...</td>\n",
       "    </tr>\n",
       "    <tr>\n",
       "      <th>3</th>\n",
       "      <td>Adrianna Papell</td>\n",
       "      <td>Womens</td>\n",
       "      <td>Clothing</td>\n",
       "      <td>Clothing</td>\n",
       "      <td>Dresses</td>\n",
       "      <td>Female</td>\n",
       "      <td>Beaded Chiffon Gown</td>\n",
       "      <td>https://www.debenhams.com/product/adrianna-pap...</td>\n",
       "      <td>P-2a31b6d7-8014-4cc2-8ec5-f3e9fbea09c3</td>\n",
       "      <td>289.0</td>\n",
       "      <td>202.3</td>\n",
       "      <td>Save 30%</td>\n",
       "      <td>Best Sellers</td>\n",
       "      <td>4</td>\n",
       "      <td>https://www.debenhams.com/category/womens-dres...</td>\n",
       "      <td>Red</td>\n",
       "      <td>M0887873725670</td>\n",
       "      <td>2022-11-06 11:18:30</td>\n",
       "      <td>5249217</td>\n",
       "      <td>When you are looking for something classic wit...</td>\n",
       "    </tr>\n",
       "    <tr>\n",
       "      <th>4</th>\n",
       "      <td>Adrianna Papell</td>\n",
       "      <td>Womens</td>\n",
       "      <td>Clothing</td>\n",
       "      <td>Clothing</td>\n",
       "      <td>Dresses</td>\n",
       "      <td>Female</td>\n",
       "      <td>Crepe Tuxedo Gown</td>\n",
       "      <td>https://www.debenhams.com/product/adrianna-pap...</td>\n",
       "      <td>P-cf156259-85d7-4887-8e9d-bd5325159adf</td>\n",
       "      <td>199.0</td>\n",
       "      <td>199.0</td>\n",
       "      <td>NaN</td>\n",
       "      <td>Best Sellers</td>\n",
       "      <td>5</td>\n",
       "      <td>https://www.debenhams.com/category/womens-dres...</td>\n",
       "      <td>Navy</td>\n",
       "      <td>M0887873829453</td>\n",
       "      <td>2022-11-06 11:18:30</td>\n",
       "      <td>5249218</td>\n",
       "      <td>Fierce and fabulous, this tuxedo-style dress i...</td>\n",
       "    </tr>\n",
       "    <tr>\n",
       "      <th>...</th>\n",
       "      <td>...</td>\n",
       "      <td>...</td>\n",
       "      <td>...</td>\n",
       "      <td>...</td>\n",
       "      <td>...</td>\n",
       "      <td>...</td>\n",
       "      <td>...</td>\n",
       "      <td>...</td>\n",
       "      <td>...</td>\n",
       "      <td>...</td>\n",
       "      <td>...</td>\n",
       "      <td>...</td>\n",
       "      <td>...</td>\n",
       "      <td>...</td>\n",
       "      <td>...</td>\n",
       "      <td>...</td>\n",
       "      <td>...</td>\n",
       "      <td>...</td>\n",
       "      <td>...</td>\n",
       "      <td>...</td>\n",
       "    </tr>\n",
       "    <tr>\n",
       "      <th>2995</th>\n",
       "      <td>Dorothy Perkins</td>\n",
       "      <td>Womens</td>\n",
       "      <td>Clothing</td>\n",
       "      <td>Clothing</td>\n",
       "      <td>Dresses</td>\n",
       "      <td>Female</td>\n",
       "      <td>Cora Long Sleeve Red Floral Midi Dress</td>\n",
       "      <td>https://www.debenhams.com/product/dorothy-perk...</td>\n",
       "      <td>BQQ08406</td>\n",
       "      <td>45.0</td>\n",
       "      <td>36.0</td>\n",
       "      <td>Save 20%</td>\n",
       "      <td>Best Sellers</td>\n",
       "      <td>2996</td>\n",
       "      <td>https://www.debenhams.com/category/womens-dres...</td>\n",
       "      <td>black</td>\n",
       "      <td>BQQ08406-105-22</td>\n",
       "      <td>2022-11-06 11:18:30</td>\n",
       "      <td>5252209</td>\n",
       "      <td>You've got the plans, we've got the dresses. F...</td>\n",
       "    </tr>\n",
       "    <tr>\n",
       "      <th>2996</th>\n",
       "      <td>Dorothy Perkins</td>\n",
       "      <td>Womens</td>\n",
       "      <td>Clothing</td>\n",
       "      <td>Clothing</td>\n",
       "      <td>Dresses</td>\n",
       "      <td>Female</td>\n",
       "      <td>Petite Dark Rose Textured Shirred Midi Dress</td>\n",
       "      <td>https://www.debenhams.com/product/dorothy-perk...</td>\n",
       "      <td>AQQ46988</td>\n",
       "      <td>45.0</td>\n",
       "      <td>22.5</td>\n",
       "      <td>Save 50%</td>\n",
       "      <td>Best Sellers</td>\n",
       "      <td>2997</td>\n",
       "      <td>https://www.debenhams.com/category/womens-dres...</td>\n",
       "      <td>rose</td>\n",
       "      <td>AQQ46988-158-14</td>\n",
       "      <td>2022-11-06 11:18:30</td>\n",
       "      <td>5252210</td>\n",
       "      <td>None</td>\n",
       "    </tr>\n",
       "    <tr>\n",
       "      <th>2997</th>\n",
       "      <td>Dorothy Perkins</td>\n",
       "      <td>Womens</td>\n",
       "      <td>Clothing</td>\n",
       "      <td>Clothing</td>\n",
       "      <td>Dresses</td>\n",
       "      <td>Female</td>\n",
       "      <td>Green Empire Midi Dress</td>\n",
       "      <td>https://www.debenhams.com/product/dorothy-perk...</td>\n",
       "      <td>BQQ07982</td>\n",
       "      <td>45.0</td>\n",
       "      <td>36.0</td>\n",
       "      <td>Save 20%</td>\n",
       "      <td>Best Sellers</td>\n",
       "      <td>2998</td>\n",
       "      <td>https://www.debenhams.com/category/womens-dres...</td>\n",
       "      <td>green</td>\n",
       "      <td>BQQ07982-130-22</td>\n",
       "      <td>2022-11-06 11:18:30</td>\n",
       "      <td>5252211</td>\n",
       "      <td>You've got the plans, we've got the dresses. F...</td>\n",
       "    </tr>\n",
       "    <tr>\n",
       "      <th>2998</th>\n",
       "      <td>Dorothy Perkins</td>\n",
       "      <td>Womens</td>\n",
       "      <td>Clothing</td>\n",
       "      <td>Clothing</td>\n",
       "      <td>Dresses</td>\n",
       "      <td>Female</td>\n",
       "      <td>Petite Black Satin Puff Sleeve Button Midaxi D...</td>\n",
       "      <td>https://www.debenhams.com/product/dorothy-perk...</td>\n",
       "      <td>AQQ07315</td>\n",
       "      <td>50.0</td>\n",
       "      <td>10.0</td>\n",
       "      <td>Save 80%</td>\n",
       "      <td>Best Sellers</td>\n",
       "      <td>2999</td>\n",
       "      <td>https://www.debenhams.com/category/womens-dres...</td>\n",
       "      <td>black</td>\n",
       "      <td>AQQ07315-105-18</td>\n",
       "      <td>2022-11-06 11:18:30</td>\n",
       "      <td>5252212</td>\n",
       "      <td>Petite Black Satin Puff Sleeve Button Midaxi D...</td>\n",
       "    </tr>\n",
       "    <tr>\n",
       "      <th>2999</th>\n",
       "      <td>Dorothy Perkins</td>\n",
       "      <td>Womens</td>\n",
       "      <td>Clothing</td>\n",
       "      <td>Clothing</td>\n",
       "      <td>Dresses</td>\n",
       "      <td>Female</td>\n",
       "      <td>Faux Leather Wrap Dress</td>\n",
       "      <td>https://www.debenhams.com/product/dorothy-perk...</td>\n",
       "      <td>AQQ07102</td>\n",
       "      <td>42.0</td>\n",
       "      <td>33.6</td>\n",
       "      <td>Save 20%</td>\n",
       "      <td>Best Sellers</td>\n",
       "      <td>3000</td>\n",
       "      <td>https://www.debenhams.com/category/womens-dres...</td>\n",
       "      <td>black</td>\n",
       "      <td>AQQ07102-105-22</td>\n",
       "      <td>2022-11-06 11:18:30</td>\n",
       "      <td>5252213</td>\n",
       "      <td>You've got the plans, we've got the dresses. F...</td>\n",
       "    </tr>\n",
       "  </tbody>\n",
       "</table>\n",
       "<p>3000 rows × 20 columns</p>\n",
       "</div>"
      ],
      "text/plain": [
       "                BRAND DEPARTMENT  CATEGORY SUBCATEGORY SUBSUBCATEGORY  GENDER  \\\n",
       "0         Accessorize     Womens  Clothing    Clothing        Dresses  Female   \n",
       "1         Accessorize     Womens  Clothing    Clothing        Dresses  Female   \n",
       "2         Accessorize     Womens  Clothing    Clothing        Dresses  Female   \n",
       "3     Adrianna Papell     Womens  Clothing    Clothing        Dresses  Female   \n",
       "4     Adrianna Papell     Womens  Clothing    Clothing        Dresses  Female   \n",
       "...               ...        ...       ...         ...            ...     ...   \n",
       "2995  Dorothy Perkins     Womens  Clothing    Clothing        Dresses  Female   \n",
       "2996  Dorothy Perkins     Womens  Clothing    Clothing        Dresses  Female   \n",
       "2997  Dorothy Perkins     Womens  Clothing    Clothing        Dresses  Female   \n",
       "2998  Dorothy Perkins     Womens  Clothing    Clothing        Dresses  Female   \n",
       "2999  Dorothy Perkins     Womens  Clothing    Clothing        Dresses  Female   \n",
       "\n",
       "                                           PRODUCT_NAME  \\\n",
       "0                               Long Sleeve Beach Shirt   \n",
       "1                                 Schiffly Bardot Dress   \n",
       "2                          Embroidered Tassel Tie Dress   \n",
       "3                                   Beaded Chiffon Gown   \n",
       "4                                     Crepe Tuxedo Gown   \n",
       "...                                                 ...   \n",
       "2995             Cora Long Sleeve Red Floral Midi Dress   \n",
       "2996       Petite Dark Rose Textured Shirred Midi Dress   \n",
       "2997                            Green Empire Midi Dress   \n",
       "2998  Petite Black Satin Puff Sleeve Button Midaxi D...   \n",
       "2999                            Faux Leather Wrap Dress   \n",
       "\n",
       "                                            PRODUCT_URL  \\\n",
       "0     https://www.debenhams.com/product/accessorize-...   \n",
       "1     https://www.debenhams.com/product/accessorize-...   \n",
       "2     https://www.debenhams.com/product/accessorize-...   \n",
       "3     https://www.debenhams.com/product/adrianna-pap...   \n",
       "4     https://www.debenhams.com/product/adrianna-pap...   \n",
       "...                                                 ...   \n",
       "2995  https://www.debenhams.com/product/dorothy-perk...   \n",
       "2996  https://www.debenhams.com/product/dorothy-perk...   \n",
       "2997  https://www.debenhams.com/product/dorothy-perk...   \n",
       "2998  https://www.debenhams.com/product/dorothy-perk...   \n",
       "2999  https://www.debenhams.com/product/dorothy-perk...   \n",
       "\n",
       "                                         SKU  PRICE_RETAIL  PRICE_CURRENT  \\\n",
       "0     P-44e9c93a-5a50-4860-babe-9b87477de72c          35.0           35.0   \n",
       "1     P-ed1fd2df-a8e3-48ad-aebd-643d5a76d77a          35.0           35.0   \n",
       "2     P-8806081e-efd7-4b50-86bf-dd6a8904bbb4          54.0           54.0   \n",
       "3     P-2a31b6d7-8014-4cc2-8ec5-f3e9fbea09c3         289.0          202.3   \n",
       "4     P-cf156259-85d7-4887-8e9d-bd5325159adf         199.0          199.0   \n",
       "...                                      ...           ...            ...   \n",
       "2995                                BQQ08406          45.0           36.0   \n",
       "2996                                AQQ46988          45.0           22.5   \n",
       "2997                                BQQ07982          45.0           36.0   \n",
       "2998                                AQQ07315          50.0           10.0   \n",
       "2999                                AQQ07102          42.0           33.6   \n",
       "\n",
       "     DISCOUNT_GIVEN       SORT_BY  BEST_SELLER_CATEGORY_RATING  \\\n",
       "0               NaN  Best Sellers                            1   \n",
       "1               NaN  Best Sellers                            2   \n",
       "2               NaN  Best Sellers                            3   \n",
       "3          Save 30%  Best Sellers                            4   \n",
       "4               NaN  Best Sellers                            5   \n",
       "...             ...           ...                          ...   \n",
       "2995       Save 20%  Best Sellers                         2996   \n",
       "2996       Save 50%  Best Sellers                         2997   \n",
       "2997       Save 20%  Best Sellers                         2998   \n",
       "2998       Save 80%  Best Sellers                         2999   \n",
       "2999       Save 20%  Best Sellers                         3000   \n",
       "\n",
       "                                            LISTING_URL Colour  \\\n",
       "0     https://www.debenhams.com/category/womens-dres...   Blue   \n",
       "1     https://www.debenhams.com/category/womens-dres...  Black   \n",
       "2     https://www.debenhams.com/category/womens-dres...   Blue   \n",
       "3     https://www.debenhams.com/category/womens-dres...    Red   \n",
       "4     https://www.debenhams.com/category/womens-dres...   Navy   \n",
       "...                                                 ...    ...   \n",
       "2995  https://www.debenhams.com/category/womens-dres...  black   \n",
       "2996  https://www.debenhams.com/category/womens-dres...   rose   \n",
       "2997  https://www.debenhams.com/category/womens-dres...  green   \n",
       "2998  https://www.debenhams.com/category/womens-dres...  black   \n",
       "2999  https://www.debenhams.com/category/womens-dres...  black   \n",
       "\n",
       "          SKU_VARIANT            SCAN_DATE      TID  \\\n",
       "0      M5045462665003  2022-11-06 11:18:30  5249214   \n",
       "1      M5045462799517  2022-11-06 11:18:30  5249215   \n",
       "2      M5045462874139  2022-11-06 11:18:30  5249216   \n",
       "3      M0887873725670  2022-11-06 11:18:30  5249217   \n",
       "4      M0887873829453  2022-11-06 11:18:30  5249218   \n",
       "...               ...                  ...      ...   \n",
       "2995  BQQ08406-105-22  2022-11-06 11:18:30  5252209   \n",
       "2996  AQQ46988-158-14  2022-11-06 11:18:30  5252210   \n",
       "2997  BQQ07982-130-22  2022-11-06 11:18:30  5252211   \n",
       "2998  AQQ07315-105-18  2022-11-06 11:18:30  5252212   \n",
       "2999  AQQ07102-105-22  2022-11-06 11:18:30  5252213   \n",
       "\n",
       "                                            Description  \n",
       "0     In our daydreams, we see this piece on a sandy...  \n",
       "1     Feel the soft sea breeze when you wear this Ba...  \n",
       "2     Adorned with delicate paisley embroidery and t...  \n",
       "3     When you are looking for something classic wit...  \n",
       "4     Fierce and fabulous, this tuxedo-style dress i...  \n",
       "...                                                 ...  \n",
       "2995  You've got the plans, we've got the dresses. F...  \n",
       "2996                                               None  \n",
       "2997  You've got the plans, we've got the dresses. F...  \n",
       "2998  Petite Black Satin Puff Sleeve Button Midaxi D...  \n",
       "2999  You've got the plans, we've got the dresses. F...  \n",
       "\n",
       "[3000 rows x 20 columns]"
      ]
     },
     "execution_count": 45,
     "metadata": {},
     "output_type": "execute_result"
    }
   ],
   "source": [
    "prep_data"
   ]
  },
  {
   "cell_type": "code",
   "execution_count": 46,
   "metadata": {},
   "outputs": [
    {
     "data": {
      "text/plain": [
       "BRAND                            27\n",
       "DEPARTMENT                        1\n",
       "CATEGORY                          1\n",
       "SUBCATEGORY                       1\n",
       "SUBSUBCATEGORY                    1\n",
       "GENDER                            3\n",
       "PRODUCT_NAME                   2835\n",
       "PRODUCT_URL                    3000\n",
       "SKU                            3000\n",
       "PRICE_RETAIL                    123\n",
       "PRICE_CURRENT                   276\n",
       "DISCOUNT_GIVEN                   57\n",
       "SORT_BY                           1\n",
       "BEST_SELLER_CATEGORY_RATING    3000\n",
       "LISTING_URL                      92\n",
       "Colour                          196\n",
       "SKU_VARIANT                    3000\n",
       "SCAN_DATE                         1\n",
       "TID                            3000\n",
       "Description                    2585\n",
       "dtype: int64"
      ]
     },
     "execution_count": 46,
     "metadata": {},
     "output_type": "execute_result"
    }
   ],
   "source": [
    "prep_data.nunique()"
   ]
  },
  {
   "attachments": {},
   "cell_type": "markdown",
   "metadata": {},
   "source": [
    "#### Working Data"
   ]
  },
  {
   "cell_type": "code",
   "execution_count": 128,
   "metadata": {},
   "outputs": [],
   "source": [
    "work_data = prep_data[['BRAND','GENDER','PRODUCT_NAME','PRODUCT_URL','Colour','Description']]"
   ]
  },
  {
   "cell_type": "code",
   "execution_count": 129,
   "metadata": {},
   "outputs": [],
   "source": [
    "work_data = work_data[work_data['Description']!='None']"
   ]
  },
  {
   "cell_type": "code",
   "execution_count": 130,
   "metadata": {},
   "outputs": [],
   "source": [
    "work_data.drop(columns='PRODUCT_URL',inplace=True)"
   ]
  },
  {
   "cell_type": "code",
   "execution_count": 131,
   "metadata": {},
   "outputs": [
    {
     "data": {
      "text/html": [
       "<div>\n",
       "<style scoped>\n",
       "    .dataframe tbody tr th:only-of-type {\n",
       "        vertical-align: middle;\n",
       "    }\n",
       "\n",
       "    .dataframe tbody tr th {\n",
       "        vertical-align: top;\n",
       "    }\n",
       "\n",
       "    .dataframe thead th {\n",
       "        text-align: right;\n",
       "    }\n",
       "</style>\n",
       "<table border=\"1\" class=\"dataframe\">\n",
       "  <thead>\n",
       "    <tr style=\"text-align: right;\">\n",
       "      <th></th>\n",
       "      <th>BRAND</th>\n",
       "      <th>GENDER</th>\n",
       "      <th>PRODUCT_NAME</th>\n",
       "      <th>Colour</th>\n",
       "      <th>Description</th>\n",
       "    </tr>\n",
       "  </thead>\n",
       "  <tbody>\n",
       "    <tr>\n",
       "      <th>0</th>\n",
       "      <td>Accessorize</td>\n",
       "      <td>Female</td>\n",
       "      <td>Long Sleeve Beach Shirt</td>\n",
       "      <td>Blue</td>\n",
       "      <td>In our daydreams, we see this piece on a sandy...</td>\n",
       "    </tr>\n",
       "    <tr>\n",
       "      <th>1</th>\n",
       "      <td>Accessorize</td>\n",
       "      <td>Female</td>\n",
       "      <td>Schiffly Bardot Dress</td>\n",
       "      <td>Black</td>\n",
       "      <td>Feel the soft sea breeze when you wear this Ba...</td>\n",
       "    </tr>\n",
       "    <tr>\n",
       "      <th>2</th>\n",
       "      <td>Accessorize</td>\n",
       "      <td>Female</td>\n",
       "      <td>Embroidered Tassel Tie Dress</td>\n",
       "      <td>Blue</td>\n",
       "      <td>Adorned with delicate paisley embroidery and t...</td>\n",
       "    </tr>\n",
       "    <tr>\n",
       "      <th>3</th>\n",
       "      <td>Adrianna Papell</td>\n",
       "      <td>Female</td>\n",
       "      <td>Beaded Chiffon Gown</td>\n",
       "      <td>Red</td>\n",
       "      <td>When you are looking for something classic wit...</td>\n",
       "    </tr>\n",
       "    <tr>\n",
       "      <th>4</th>\n",
       "      <td>Adrianna Papell</td>\n",
       "      <td>Female</td>\n",
       "      <td>Crepe Tuxedo Gown</td>\n",
       "      <td>Navy</td>\n",
       "      <td>Fierce and fabulous, this tuxedo-style dress i...</td>\n",
       "    </tr>\n",
       "    <tr>\n",
       "      <th>...</th>\n",
       "      <td>...</td>\n",
       "      <td>...</td>\n",
       "      <td>...</td>\n",
       "      <td>...</td>\n",
       "      <td>...</td>\n",
       "    </tr>\n",
       "    <tr>\n",
       "      <th>2994</th>\n",
       "      <td>Dorothy Perkins</td>\n",
       "      <td>Female</td>\n",
       "      <td>Diamond Printed V Neck Shirred Waist Midi Dress</td>\n",
       "      <td>black</td>\n",
       "      <td>You've got the plans, we've got the dresses. F...</td>\n",
       "    </tr>\n",
       "    <tr>\n",
       "      <th>2995</th>\n",
       "      <td>Dorothy Perkins</td>\n",
       "      <td>Female</td>\n",
       "      <td>Cora Long Sleeve Red Floral Midi Dress</td>\n",
       "      <td>black</td>\n",
       "      <td>You've got the plans, we've got the dresses. F...</td>\n",
       "    </tr>\n",
       "    <tr>\n",
       "      <th>2997</th>\n",
       "      <td>Dorothy Perkins</td>\n",
       "      <td>Female</td>\n",
       "      <td>Green Empire Midi Dress</td>\n",
       "      <td>green</td>\n",
       "      <td>You've got the plans, we've got the dresses. F...</td>\n",
       "    </tr>\n",
       "    <tr>\n",
       "      <th>2998</th>\n",
       "      <td>Dorothy Perkins</td>\n",
       "      <td>Female</td>\n",
       "      <td>Petite Black Satin Puff Sleeve Button Midaxi D...</td>\n",
       "      <td>black</td>\n",
       "      <td>Petite Black Satin Puff Sleeve Button Midaxi D...</td>\n",
       "    </tr>\n",
       "    <tr>\n",
       "      <th>2999</th>\n",
       "      <td>Dorothy Perkins</td>\n",
       "      <td>Female</td>\n",
       "      <td>Faux Leather Wrap Dress</td>\n",
       "      <td>black</td>\n",
       "      <td>You've got the plans, we've got the dresses. F...</td>\n",
       "    </tr>\n",
       "  </tbody>\n",
       "</table>\n",
       "<p>2853 rows × 5 columns</p>\n",
       "</div>"
      ],
      "text/plain": [
       "                BRAND  GENDER  \\\n",
       "0         Accessorize  Female   \n",
       "1         Accessorize  Female   \n",
       "2         Accessorize  Female   \n",
       "3     Adrianna Papell  Female   \n",
       "4     Adrianna Papell  Female   \n",
       "...               ...     ...   \n",
       "2994  Dorothy Perkins  Female   \n",
       "2995  Dorothy Perkins  Female   \n",
       "2997  Dorothy Perkins  Female   \n",
       "2998  Dorothy Perkins  Female   \n",
       "2999  Dorothy Perkins  Female   \n",
       "\n",
       "                                           PRODUCT_NAME Colour  \\\n",
       "0                               Long Sleeve Beach Shirt   Blue   \n",
       "1                                 Schiffly Bardot Dress  Black   \n",
       "2                          Embroidered Tassel Tie Dress   Blue   \n",
       "3                                   Beaded Chiffon Gown    Red   \n",
       "4                                     Crepe Tuxedo Gown   Navy   \n",
       "...                                                 ...    ...   \n",
       "2994    Diamond Printed V Neck Shirred Waist Midi Dress  black   \n",
       "2995             Cora Long Sleeve Red Floral Midi Dress  black   \n",
       "2997                            Green Empire Midi Dress  green   \n",
       "2998  Petite Black Satin Puff Sleeve Button Midaxi D...  black   \n",
       "2999                            Faux Leather Wrap Dress  black   \n",
       "\n",
       "                                            Description  \n",
       "0     In our daydreams, we see this piece on a sandy...  \n",
       "1     Feel the soft sea breeze when you wear this Ba...  \n",
       "2     Adorned with delicate paisley embroidery and t...  \n",
       "3     When you are looking for something classic wit...  \n",
       "4     Fierce and fabulous, this tuxedo-style dress i...  \n",
       "...                                                 ...  \n",
       "2994  You've got the plans, we've got the dresses. F...  \n",
       "2995  You've got the plans, we've got the dresses. F...  \n",
       "2997  You've got the plans, we've got the dresses. F...  \n",
       "2998  Petite Black Satin Puff Sleeve Button Midaxi D...  \n",
       "2999  You've got the plans, we've got the dresses. F...  \n",
       "\n",
       "[2853 rows x 5 columns]"
      ]
     },
     "execution_count": 131,
     "metadata": {},
     "output_type": "execute_result"
    }
   ],
   "source": [
    "work_data"
   ]
  },
  {
   "cell_type": "code",
   "execution_count": 132,
   "metadata": {},
   "outputs": [
    {
     "data": {
      "text/plain": [
       "'In our daydreams, we see this piece on a sandy beach with a cocktail in hand. The perfect airy piece to throw over your swimsuit, simply style it with sandals and some oversized sunnies. Designed in a light linen-blend.'"
      ]
     },
     "execution_count": 132,
     "metadata": {},
     "output_type": "execute_result"
    }
   ],
   "source": [
    "work_data['Description'][0]"
   ]
  },
  {
   "cell_type": "code",
   "execution_count": 65,
   "metadata": {},
   "outputs": [],
   "source": [
    "from nltk.stem import WordNetLemmatizer\n",
    "lm = WordNetLemmatizer()\n",
    "from nltk.corpus import stopwords"
   ]
  },
  {
   "cell_type": "code",
   "execution_count": 79,
   "metadata": {},
   "outputs": [],
   "source": [
    "from nltk.stem import PorterStemmer\n",
    "ps = PorterStemmer()"
   ]
  },
  {
   "cell_type": "code",
   "execution_count": 86,
   "metadata": {},
   "outputs": [],
   "source": [
    "new_desc = []"
   ]
  },
  {
   "cell_type": "code",
   "execution_count": 87,
   "metadata": {},
   "outputs": [
    {
     "name": "stderr",
     "output_type": "stream",
     "text": [
      "100%|██████████| 2853/2853 [02:04<00:00, 23.00it/s]\n"
     ]
    }
   ],
   "source": [
    "for i in tqdm(work_data['Description']):\n",
    "    new = i.split()\n",
    "    new = [ps.stem(word) for word in new if word not in set(stopwords.words('english'))]\n",
    "    new = \" \".join(new)\n",
    "    new_desc.append(new)"
   ]
  },
  {
   "cell_type": "code",
   "execution_count": 133,
   "metadata": {},
   "outputs": [],
   "source": [
    "work_data.replace('[^a-zA-Z]',\" \",regex=True,inplace=True)"
   ]
  },
  {
   "cell_type": "code",
   "execution_count": 134,
   "metadata": {},
   "outputs": [],
   "source": [
    "work_data['BRAND'] = work_data['BRAND'].str.lower()\n",
    "work_data['GENDER'] = work_data['GENDER'].str.lower()\n",
    "work_data['Colour'] = work_data['Colour'].str.lower()"
   ]
  },
  {
   "cell_type": "code",
   "execution_count": 137,
   "metadata": {},
   "outputs": [],
   "source": [
    "work_data['BRAND'] = work_data['BRAND'].apply(lambda x:x.replace(\" \",\"\"))"
   ]
  },
  {
   "cell_type": "code",
   "execution_count": 139,
   "metadata": {},
   "outputs": [],
   "source": [
    "work_data['Meta'] = new_desc"
   ]
  },
  {
   "cell_type": "code",
   "execution_count": 141,
   "metadata": {},
   "outputs": [],
   "source": [
    "work_data['Meta'] = work_data['BRAND'] + \" \" + work_data['GENDER'] + \" \" + work_data['Colour'] + \" \" + work_data['Meta'] "
   ]
  },
  {
   "cell_type": "code",
   "execution_count": 143,
   "metadata": {},
   "outputs": [],
   "source": [
    "work_data.drop(columns=['BRAND','GENDER','Colour','Description'],inplace=True)"
   ]
  },
  {
   "cell_type": "code",
   "execution_count": 144,
   "metadata": {},
   "outputs": [
    {
     "data": {
      "text/html": [
       "<div>\n",
       "<style scoped>\n",
       "    .dataframe tbody tr th:only-of-type {\n",
       "        vertical-align: middle;\n",
       "    }\n",
       "\n",
       "    .dataframe tbody tr th {\n",
       "        vertical-align: top;\n",
       "    }\n",
       "\n",
       "    .dataframe thead th {\n",
       "        text-align: right;\n",
       "    }\n",
       "</style>\n",
       "<table border=\"1\" class=\"dataframe\">\n",
       "  <thead>\n",
       "    <tr style=\"text-align: right;\">\n",
       "      <th></th>\n",
       "      <th>PRODUCT_NAME</th>\n",
       "      <th>Meta</th>\n",
       "    </tr>\n",
       "  </thead>\n",
       "  <tbody>\n",
       "    <tr>\n",
       "      <th>0</th>\n",
       "      <td>Long Sleeve Beach Shirt</td>\n",
       "      <td>accessorize female blue in daydreams, see piec...</td>\n",
       "    </tr>\n",
       "    <tr>\n",
       "      <th>1</th>\n",
       "      <td>Schiffly Bardot Dress</td>\n",
       "      <td>accessorize female black feel soft sea breez w...</td>\n",
       "    </tr>\n",
       "    <tr>\n",
       "      <th>2</th>\n",
       "      <td>Embroidered Tassel Tie Dress</td>\n",
       "      <td>accessorize female blue adorn delic paisley em...</td>\n",
       "    </tr>\n",
       "    <tr>\n",
       "      <th>3</th>\n",
       "      <td>Beaded Chiffon Gown</td>\n",
       "      <td>adriannapapell female red when look someth cla...</td>\n",
       "    </tr>\n",
       "    <tr>\n",
       "      <th>4</th>\n",
       "      <td>Crepe Tuxedo Gown</td>\n",
       "      <td>adriannapapell female navy fierc fabulous, tux...</td>\n",
       "    </tr>\n",
       "    <tr>\n",
       "      <th>...</th>\n",
       "      <td>...</td>\n",
       "      <td>...</td>\n",
       "    </tr>\n",
       "    <tr>\n",
       "      <th>2994</th>\n",
       "      <td>Diamond Printed V Neck Shirred Waist Midi Dress</td>\n",
       "      <td>dorothyperkins female black you'v got plans, w...</td>\n",
       "    </tr>\n",
       "    <tr>\n",
       "      <th>2995</th>\n",
       "      <td>Cora Long Sleeve Red Floral Midi Dress</td>\n",
       "      <td>dorothyperkins female black you'v got plans, w...</td>\n",
       "    </tr>\n",
       "    <tr>\n",
       "      <th>2997</th>\n",
       "      <td>Green Empire Midi Dress</td>\n",
       "      <td>dorothyperkins female green you'v got plans, w...</td>\n",
       "    </tr>\n",
       "    <tr>\n",
       "      <th>2998</th>\n",
       "      <td>Petite Black Satin Puff Sleeve Button Midaxi D...</td>\n",
       "      <td>dorothyperkins female black petit black satin ...</td>\n",
       "    </tr>\n",
       "    <tr>\n",
       "      <th>2999</th>\n",
       "      <td>Faux Leather Wrap Dress</td>\n",
       "      <td>dorothyperkins female black you'v got plans, w...</td>\n",
       "    </tr>\n",
       "  </tbody>\n",
       "</table>\n",
       "<p>2853 rows × 2 columns</p>\n",
       "</div>"
      ],
      "text/plain": [
       "                                           PRODUCT_NAME  \\\n",
       "0                               Long Sleeve Beach Shirt   \n",
       "1                                 Schiffly Bardot Dress   \n",
       "2                          Embroidered Tassel Tie Dress   \n",
       "3                                   Beaded Chiffon Gown   \n",
       "4                                     Crepe Tuxedo Gown   \n",
       "...                                                 ...   \n",
       "2994    Diamond Printed V Neck Shirred Waist Midi Dress   \n",
       "2995             Cora Long Sleeve Red Floral Midi Dress   \n",
       "2997                            Green Empire Midi Dress   \n",
       "2998  Petite Black Satin Puff Sleeve Button Midaxi D...   \n",
       "2999                            Faux Leather Wrap Dress   \n",
       "\n",
       "                                                   Meta  \n",
       "0     accessorize female blue in daydreams, see piec...  \n",
       "1     accessorize female black feel soft sea breez w...  \n",
       "2     accessorize female blue adorn delic paisley em...  \n",
       "3     adriannapapell female red when look someth cla...  \n",
       "4     adriannapapell female navy fierc fabulous, tux...  \n",
       "...                                                 ...  \n",
       "2994  dorothyperkins female black you'v got plans, w...  \n",
       "2995  dorothyperkins female black you'v got plans, w...  \n",
       "2997  dorothyperkins female green you'v got plans, w...  \n",
       "2998  dorothyperkins female black petit black satin ...  \n",
       "2999  dorothyperkins female black you'v got plans, w...  \n",
       "\n",
       "[2853 rows x 2 columns]"
      ]
     },
     "execution_count": 144,
     "metadata": {},
     "output_type": "execute_result"
    }
   ],
   "source": [
    "work_data"
   ]
  },
  {
   "attachments": {},
   "cell_type": "markdown",
   "metadata": {},
   "source": [
    "#### Text Vectorization"
   ]
  },
  {
   "cell_type": "code",
   "execution_count": 153,
   "metadata": {},
   "outputs": [],
   "source": [
    "from sklearn.feature_extraction.text import CountVectorizer\n",
    "cv = CountVectorizer(max_features=1000,stop_words='english')"
   ]
  },
  {
   "cell_type": "code",
   "execution_count": 161,
   "metadata": {},
   "outputs": [],
   "source": [
    "vectors = cv.fit_transform(work_data['Meta']).toarray()"
   ]
  },
  {
   "cell_type": "code",
   "execution_count": 160,
   "metadata": {},
   "outputs": [],
   "source": [
    "from sklearn.metrics.pairwise import cosine_similarity"
   ]
  },
  {
   "cell_type": "code",
   "execution_count": 164,
   "metadata": {},
   "outputs": [
    {
     "data": {
      "text/plain": [
       "array([[1.        , 0.14638501, 0.18650096, ..., 0.08195375, 0.06201737,\n",
       "        0.08660254],\n",
       "       [0.14638501, 1.        , 0.1820063 , ..., 0.18661691, 0.30261377,\n",
       "        0.22537447],\n",
       "       [0.18650096, 0.1820063 , 1.        , ..., 0.10189636, 0.11566299,\n",
       "        0.10767638],\n",
       "       ...,\n",
       "       [0.08195375, 0.18661691, 0.10189636, ..., 1.        , 0.16941854,\n",
       "        0.86746041],\n",
       "       [0.06201737, 0.30261377, 0.11566299, ..., 0.16941854, 1.        ,\n",
       "        0.28644595],\n",
       "       [0.08660254, 0.22537447, 0.10767638, ..., 0.86746041, 0.28644595,\n",
       "        1.        ]])"
      ]
     },
     "execution_count": 164,
     "metadata": {},
     "output_type": "execute_result"
    }
   ],
   "source": [
    "cosine_similarity(vectors)"
   ]
  },
  {
   "cell_type": "code",
   "execution_count": 168,
   "metadata": {},
   "outputs": [],
   "source": [
    "similarity = cosine_similarity(vectors)"
   ]
  },
  {
   "attachments": {},
   "cell_type": "markdown",
   "metadata": {},
   "source": [
    "### Recommendation Model"
   ]
  },
  {
   "cell_type": "code",
   "execution_count": 171,
   "metadata": {},
   "outputs": [],
   "source": [
    "def recommended_dress(product):\n",
    "    dress_index = work_data[work_data['PRODUCT_NAME']==product].index[0]\n",
    "    distance = similarity[dress_index]\n",
    "    dresses_list = sorted(list(enumerate(distance)),reverse=True,key=lambda x:x[1])[1:6]\n",
    "    \n",
    "    for i in dresses_list:\n",
    "        print(new_data.iloc[i[0]].PRODUCT_NAME,new_data.iloc[i[0]].PRODUCT_URL)"
   ]
  },
  {
   "cell_type": "code",
   "execution_count": 172,
   "metadata": {},
   "outputs": [
    {
     "name": "stdout",
     "output_type": "stream",
     "text": [
      "Chunky Rib Knitted Jumper Dress https://www.debenhams.com/product/boohoo-chunky-rib-knitted-jumper-dress_gzz02795?colour=black\n",
      "Satin Plunge Twist Maxi Dress https://www.debenhams.com/product/boohoo-satin-plunge-twist-maxi-dress_gzz18787?colour=berry\n",
      "Plus V Bar Square Neck Split Maxi Dress https://www.debenhams.com/product/boohoo-plus-v-bar-square-neck-split-maxi-dress_gzz29347?colour=red\n",
      "Plus V Neck Smock Dress https://www.debenhams.com/product/boohoo-plus-v-neck-smock-dress_gzz10674?colour=green\n",
      "Plus Jersey Wrap Skater Dress https://www.debenhams.com/product/boohoo-plus-jersey-wrap-skater-dress_pzz04648?colour=grey marl\n"
     ]
    }
   ],
   "source": [
    "recommended_dress('Long Sleeve Beach Shirt')"
   ]
  },
  {
   "cell_type": "code",
   "execution_count": null,
   "metadata": {},
   "outputs": [],
   "source": []
  }
 ],
 "metadata": {
  "kernelspec": {
   "display_name": "base",
   "language": "python",
   "name": "python3"
  },
  "language_info": {
   "codemirror_mode": {
    "name": "ipython",
    "version": 3
   },
   "file_extension": ".py",
   "mimetype": "text/x-python",
   "name": "python",
   "nbconvert_exporter": "python",
   "pygments_lexer": "ipython3",
   "version": "3.9.15"
  },
  "orig_nbformat": 4
 },
 "nbformat": 4,
 "nbformat_minor": 2
}
